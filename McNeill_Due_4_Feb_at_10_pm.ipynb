{
  "nbformat": 4,
  "nbformat_minor": 0,
  "metadata": {
    "colab": {
      "provenance": [],
      "include_colab_link": true
    },
    "kernelspec": {
      "name": "python3",
      "display_name": "Python 3"
    },
    "language_info": {
      "name": "python"
    }
  },
  "cells": [
    {
      "cell_type": "markdown",
      "metadata": {
        "id": "view-in-github",
        "colab_type": "text"
      },
      "source": [
        "<a href=\"https://colab.research.google.com/github/amcneill318/DS1002/blob/main/McNeill_Due_4_Feb_at_10_pm.ipynb\" target=\"_parent\"><img src=\"https://colab.research.google.com/assets/colab-badge.svg\" alt=\"Open In Colab\"/></a>"
      ]
    },
    {
      "cell_type": "markdown",
      "source": [
        "## DS 1002 homework due Sunday Feb 4 at 10 pm\n"
      ],
      "metadata": {
        "id": "zAw2bmn-TjFJ"
      }
    },
    {
      "cell_type": "code",
      "source": [],
      "metadata": {
        "id": "FNxtWtrVg-ST"
      },
      "execution_count": null,
      "outputs": []
    },
    {
      "cell_type": "markdown",
      "source": [
        "\n",
        "The notebook from Wednesday's class is in my GitHib repository, including the little script we wrote at the end to find mangos in a list of fruit.  The file is called `MorePythonBasics.ipynb`.\n",
        "\n",
        "(By the way I wondered if the correct spelling was \"mangos\" or \"mangoes\" and I found [this](https://www.mango.org/blog-mangos-or-mangoes/)!  Who knew?  There's a National Mango Board!  And they're prepared to adjudicate this and other difficult mango-related questions.)\n",
        "\n",
        "\n"
      ],
      "metadata": {
        "id": "Cmf4xleCSWCu"
      }
    },
    {
      "cell_type": "markdown",
      "source": [
        "### Problem 1:  finding fruit\n",
        "\n",
        "Adapt the function we wrote in class so that it takes two arguments,\n",
        "\n",
        "`fruit` and `hungryfor` ,\n",
        "\n",
        "and then searches through the list `fruit` for the item `hungryfor`.  The line that calls the function should look like\n",
        "\n",
        "`find_fruit(food, hungryfor)`\n",
        "\n",
        "Make it print out the results in the same way, so for example if `food` is what we entered in class and `hungryfor = \"tomatoes\"` then the output will be\n",
        "\n",
        "```python\n",
        "No tomatoes here.\n",
        "No tomatoes here.\n",
        "No tomatoes here.\n",
        "No tomatoes here.\n",
        "No tomatoes here.\n",
        "```\n",
        "Test your code by changing the values of `food` and `hungryfor` and make sure the output is what you expect.  Show a few outputs, each in its own code chunk.\n",
        "\n"
      ],
      "metadata": {
        "id": "rJLyGryAThhp"
      }
    },
    {
      "cell_type": "code",
      "source": [
        "# put code here\n",
        "fruit = [\"apples\",\"bananas\",\"blueberries\",\"pineapple\"]\n",
        "hungryfor = \"bananas\"\n",
        "def find_fruit(fruit, hungryfor):\n",
        "  for food in fruit:\n",
        "    if food == hungryfor:\n",
        "      print(f\"Hooray! I found {hungryfor}.\")\n",
        "    else:\n",
        "      print(f\"No {hungryfor} here.\")\n",
        "find_fruit(fruit, hungryfor)\n",
        ""
      ],
      "metadata": {
        "id": "YXwLLFCt6H2f",
        "colab": {
          "base_uri": "https://localhost:8080/"
        },
        "outputId": "d82adebd-d583-4dbc-a26b-a45509b5d130"
      },
      "execution_count": 69,
      "outputs": [
        {
          "output_type": "stream",
          "name": "stdout",
          "text": [
            "No bananas here.\n",
            "Hooray! I found bananas.\n",
            "No bananas here.\n",
            "No bananas here.\n"
          ]
        }
      ]
    },
    {
      "cell_type": "code",
      "source": [
        "\n",
        "# put your first function call here, and make more code chunks for additional function calls\n",
        "fruit = [\"apples\",\"bananas\",\"blueberries\",\"pineapple\"]\n",
        "hungryfor = \"blueberries\"\n",
        "def find_fruit(fruit, hungryfor):\n",
        "  for food in fruit:\n",
        "    if food == hungryfor:\n",
        "      print(f\"Hooray! I found {hungryfor}.\")\n",
        "    else:\n",
        "      print(f\"No {hungryfor} here.\")\n",
        "find_fruit(fruit, hungryfor)"
      ],
      "metadata": {
        "id": "bYdqsfrh6KnE",
        "colab": {
          "base_uri": "https://localhost:8080/"
        },
        "outputId": "fe1a8574-d3e9-4b70-d5e5-32949da8785c"
      },
      "execution_count": 71,
      "outputs": [
        {
          "output_type": "stream",
          "name": "stdout",
          "text": [
            "No blueberries here.\n",
            "No blueberries here.\n",
            "Hooray! I found blueberries.\n",
            "No blueberries here.\n"
          ]
        }
      ]
    },
    {
      "cell_type": "code",
      "source": [
        "fruit = [\"apples\",\"bananas\",\"blueberries\",\"pineapple\"]\n",
        "hungryfor = \"pineapple\"\n",
        "def find_fruit(fruit, hungryfor):\n",
        "  for food in fruit:\n",
        "    if food == hungryfor:\n",
        "      print(f\"Hooray! I found {hungryfor}.\")\n",
        "    else:\n",
        "      print(f\"No {hungryfor} here.\")\n",
        "\n",
        "find_fruit(fruit, hungryfor)"
      ],
      "metadata": {
        "colab": {
          "base_uri": "https://localhost:8080/"
        },
        "id": "1ujxagXRtOBp",
        "outputId": "6449ebef-35b0-42c5-ea13-d63b41bac001"
      },
      "execution_count": 72,
      "outputs": [
        {
          "output_type": "stream",
          "name": "stdout",
          "text": [
            "No pineapple here.\n",
            "No pineapple here.\n",
            "No pineapple here.\n",
            "Hooray! I found pineapple.\n"
          ]
        }
      ]
    },
    {
      "cell_type": "markdown",
      "source": [
        "#### Notes\n",
        "1. Once you have run a code chunk in the notebook, it will remember that it has been run.  You don't have to call the function in the same code chunk where the function is defined.  In other words, to call the function with new inputs you can simply make a new code chunk, change the inputs, and call the function.  *You don't have to retype the definition of the function each time.*\n",
        "\n",
        "2. Make sure you clean things up when you're done, so you don't include old code that doesn't work or old incorrect outputs.\n"
      ],
      "metadata": {
        "id": "AMp-a1ym6W7w"
      }
    },
    {
      "cell_type": "markdown",
      "source": [
        "### Problem 2:  the `input()` function\n",
        "\n",
        "(a) Programming gets way more fun when you start to interact with your own programs!  Here is a function that lets you start doing that.  Run the following code and see what happens:\n"
      ],
      "metadata": {
        "id": "R-s9cZ6GYWNX"
      }
    },
    {
      "cell_type": "code",
      "source": [
        "input()\n",
        "print(\"Hello there!\")"
      ],
      "metadata": {
        "id": "IEK8O2qNYkXn",
        "colab": {
          "base_uri": "https://localhost:8080/"
        },
        "outputId": "31dce27b-9db7-4c3e-fc21-c8605897472b"
      },
      "execution_count": 38,
      "outputs": [
        {
          "output_type": "stream",
          "name": "stdout",
          "text": [
            "hi\n",
            "Hello there!\n"
          ]
        }
      ]
    },
    {
      "cell_type": "markdown",
      "source": [
        "(b) As you just saw, the code waits for you to enter something before it continues.  If you want to actually use the input in the code, you should assign its value to a variable:"
      ],
      "metadata": {
        "id": "sktZu8wWzFF6"
      }
    },
    {
      "cell_type": "code",
      "source": [
        "message = input()\n",
        "print(message)"
      ],
      "metadata": {
        "id": "fMmBkzbyz9Ty",
        "colab": {
          "base_uri": "https://localhost:8080/"
        },
        "outputId": "fb3ff25d-3114-403c-e4ee-a990ce55c04a"
      },
      "execution_count": 42,
      "outputs": [
        {
          "output_type": "stream",
          "name": "stdout",
          "text": [
            "hello\n",
            "hello\n"
          ]
        }
      ]
    },
    {
      "cell_type": "markdown",
      "source": [
        "(c) Now you can start interacting.  Write some code that asks the user what they are hungry for (using a print statement), and then takes the user input, and then runs the `find_fruit` function from the previous code block using the user input as the `hungryfor` variable.  Test your code, and then include a few different outputs that demonstrate that the code works."
      ],
      "metadata": {
        "id": "ny41z-dQYmjQ"
      }
    },
    {
      "cell_type": "code",
      "source": [
        "# put code here\n",
        "print(\"what are you hungry for?\")\n",
        "hungryfor = input()\n",
        "find_fruit(fruit,hungryfor)"
      ],
      "metadata": {
        "id": "SKAVoAZ00xOx",
        "colab": {
          "base_uri": "https://localhost:8080/"
        },
        "outputId": "741a8e85-c589-4559-f4de-3896d537bf81"
      },
      "execution_count": 60,
      "outputs": [
        {
          "output_type": "stream",
          "name": "stdout",
          "text": [
            "what are you hungry for?\n",
            "pineapple\n",
            "No pineapple here.\n",
            "No pineapple here.\n",
            "No pineapple here.\n",
            "Hooray! I found pineapple.\n"
          ]
        }
      ]
    },
    {
      "cell_type": "code",
      "source": [
        "# run it here, and add more code chunks for more runs\n",
        "print(\"what are you hungry for?\")\n",
        "hungryfor = input()\n",
        "find_fruit(fruit,hungryfor)\n"
      ],
      "metadata": {
        "id": "sQQVP1oa5dR7",
        "colab": {
          "base_uri": "https://localhost:8080/"
        },
        "outputId": "698a8f35-8200-4bfe-bc93-84825d3b7efa"
      },
      "execution_count": 62,
      "outputs": [
        {
          "output_type": "stream",
          "name": "stdout",
          "text": [
            "what are you hungry for?\n",
            "blueberries\n",
            "No blueberries here.\n",
            "No blueberries here.\n",
            "Hooray! I found blueberries.\n",
            "No blueberries here.\n"
          ]
        }
      ]
    },
    {
      "cell_type": "code",
      "source": [
        "print(\"what are you hungry for?\")\n",
        "hungryfor = input()\n",
        "find_fruit(fruit,hungryfor)"
      ],
      "metadata": {
        "colab": {
          "base_uri": "https://localhost:8080/"
        },
        "id": "IASFLdwEsg0v",
        "outputId": "1e837498-dd69-491f-e396-9113756ffe0a"
      },
      "execution_count": 67,
      "outputs": [
        {
          "output_type": "stream",
          "name": "stdout",
          "text": [
            "what are you hungry for?\n",
            "apples\n",
            "Hooray! I found apples.\n",
            "No apples here.\n",
            "No apples here.\n",
            "No apples here.\n"
          ]
        }
      ]
    },
    {
      "cell_type": "markdown",
      "source": [
        "### Problem 3:  ratings  \n",
        "Write a piece of code which prompts a user with the question \"What is your rating? (1-10)\" and then asks for user input.  Let's say the input is 3.  Once the input is received, print out a message that says.\n",
        "\n",
        "\"Your rating is *** .\"\n",
        "\n",
        "Obviously, your program should print the number of stars corresponding to the input!  If the input is 5, it should print\n",
        "\n",
        "\"Your rating is ***** .\"\n",
        "\n",
        "Show at least two outputs of your code."
      ],
      "metadata": {
        "id": "5CWOlHBz0xoZ"
      }
    },
    {
      "cell_type": "code",
      "source": [
        "# put code here\n",
        "print(\"What is your rating?(1-10)\")\n",
        "rating=input()\n",
        "print(f\"Your rating is {rating}\")"
      ],
      "metadata": {
        "id": "MCWnTAUW2Gin",
        "colab": {
          "base_uri": "https://localhost:8080/"
        },
        "outputId": "a8beba13-2014-49d3-ffc2-b28fe5e32cd2"
      },
      "execution_count": 64,
      "outputs": [
        {
          "output_type": "stream",
          "name": "stdout",
          "text": [
            "What is your rating?(1-10)\n",
            "9\n",
            "Your rating is 9\n"
          ]
        }
      ]
    },
    {
      "cell_type": "code",
      "source": [
        "# you might have to copy the code to show another output\n",
        "# (unless you figure out another way to do it)\n",
        "print(\"What is your rating?(1-10)\")\n",
        "rating=input()\n",
        "print(f\"Your rating is {rating}\")"
      ],
      "metadata": {
        "id": "nxm67oCk8Ukn",
        "colab": {
          "base_uri": "https://localhost:8080/"
        },
        "outputId": "52e90d0e-2944-4e3e-9a9c-39700d74b3ec"
      },
      "execution_count": 65,
      "outputs": [
        {
          "output_type": "stream",
          "name": "stdout",
          "text": [
            "What is your rating?(1-10)\n",
            "4\n",
            "Your rating is 4\n"
          ]
        }
      ]
    },
    {
      "cell_type": "code",
      "source": [
        "print(\"What is your rating?(1-10)\")\n",
        "rating=input()\n",
        "print(f\"Your rating is {rating}\")"
      ],
      "metadata": {
        "colab": {
          "base_uri": "https://localhost:8080/"
        },
        "id": "VgfNGtops8WO",
        "outputId": "466913aa-c57f-4411-d914-7413031b5560"
      },
      "execution_count": 66,
      "outputs": [
        {
          "output_type": "stream",
          "name": "stdout",
          "text": [
            "What is your rating?(1-10)\n",
            "6.7\n",
            "Your rating is 6.7\n"
          ]
        }
      ]
    },
    {
      "cell_type": "code",
      "source": [],
      "metadata": {
        "id": "pB0CMIH2s8NJ"
      },
      "execution_count": null,
      "outputs": []
    },
    {
      "cell_type": "markdown",
      "source": [
        "You do not have to do this as part of the assignment, but one thing to think about with any code that has **interactivity** is that you want to make it **robust**.  This means you should imagine someone is *trying* to break your code, and you should try to make it as indestructible as possible.\n",
        "\n",
        "What will happen to your code if someone enters 3.5?  Or -12?  Or \"nonsense\"?  Test it and see.  Think about how you might guard against errors.\n"
      ],
      "metadata": {
        "id": "VRfc9puT2yac"
      }
    }
  ]
}