{
  "nbformat": 4,
  "nbformat_minor": 0,
  "metadata": {
    "colab": {
      "provenance": [],
      "authorship_tag": "ABX9TyN/YofIyHIoqWCUk6z1FZuV",
      "include_colab_link": true
    },
    "kernelspec": {
      "name": "python3",
      "display_name": "Python 3"
    },
    "language_info": {
      "name": "python"
    }
  },
  "cells": [
    {
      "cell_type": "markdown",
      "metadata": {
        "id": "view-in-github",
        "colab_type": "text"
      },
      "source": [
        "<a href=\"https://colab.research.google.com/github/amcneill318/DS1002/blob/main/Andrew_McNeill_Guessing_Game_Assignment.ipynb\" target=\"_parent\"><img src=\"https://colab.research.google.com/assets/colab-badge.svg\" alt=\"Open In Colab\"/></a>"
      ]
    },
    {
      "cell_type": "markdown",
      "source": [
        "Andrew McNeill"
      ],
      "metadata": {
        "id": "tAjt8BIS3c1v"
      }
    },
    {
      "cell_type": "code",
      "source": [
        "import numpy as np\n",
        "print(\"I am selecting a number between 1 and 100. Your task is to correctly guess my number. Ready?\")\n",
        "number = np.random.randint(1,100)\n",
        "print(\"What is my number?\")\n",
        "attempts = 0\n",
        "while True:\n",
        "  try:\n",
        "    guess = int(input(\"Guess: \"))\n",
        "    if guess <1 or guess >100:\n",
        "      print(\"Please try again. The guess must be an integer between 1 and 100.\")\n",
        "    else:\n",
        "      attempts += 1\n",
        "      if guess == number:\n",
        "        print(\"Correct! You guessed the number!\")\n",
        "        if attempts == 1:\n",
        "          print(f\"First try!!!!\")\n",
        "        else:\n",
        "          print(f\"It took you {attempts} guesses. Nice Work!\")\n",
        "        break\n",
        "      elif guess < number and 1 <= guess <= 100:\n",
        "        print(\"Higher\")\n",
        "      elif guess > number and 1 <= guess <= 100:\n",
        "        print(\"Lower\")\n",
        "  except ValueError:\n",
        "    print(\"Please enter a whole number.\")"
      ],
      "metadata": {
        "colab": {
          "base_uri": "https://localhost:8080/"
        },
        "id": "GW9PYStcyzmh",
        "outputId": "e48a44c0-c9d7-4f15-c479-c0c7562b542c"
      },
      "execution_count": 21,
      "outputs": [
        {
          "output_type": "stream",
          "name": "stdout",
          "text": [
            "I am selecting a number between 1 and 100. Your task is to correctly guess my number. Ready?\n",
            "What is my number?\n",
            "Guess: 14\n",
            "Higher\n",
            "Guess: 1.4\n",
            "Please enter a whole number.\n",
            "Guess: -1\n",
            "Please try again. The guess must be an integer between 1 and 100.\n",
            "Guess: 50\n",
            "Lower\n",
            "Guess: 43\n",
            "Correct! You guessed the number!\n",
            "It took you 3 guesses. Nice Work!\n"
          ]
        }
      ]
    },
    {
      "cell_type": "markdown",
      "source": [
        "It took me about an hour and a half to 2 hours to complete this assignment\n"
      ],
      "metadata": {
        "id": "cOEfqy7A3pkG"
      }
    }
  ]
}